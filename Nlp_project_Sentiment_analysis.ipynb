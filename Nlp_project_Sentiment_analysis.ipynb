{
  "cells": [
    {
      "cell_type": "code",
      "execution_count": null,
      "metadata": {
        "colab": {
          "base_uri": "https://localhost:8080/"
        },
        "id": "GquXCtbxnbIs",
        "outputId": "2f82fd7e-0980-4bab-fc21-0ff1a99d44da"
      },
      "outputs": [],
      "source": [
        "import pandas as pd\n",
        "import numpy as np"
      ]
    },
    {
      "cell_type": "code",
      "execution_count": null,
      "metadata": {
        "id": "LoJ0uaSEst2Q"
      },
      "outputs": [],
      "source": [
        "from wordcloud import WordCloud\n",
        "from sklearn.model_selection import train_test_split\n",
        "import nltk\n",
        "from nltk.corpus import stopwords\n",
        "from nltk.tokenize import word_tokenize,sent_tokenize\n",
        "from nltk.stem import PorterStemmer,WordNetLemmatizer\n",
        "from nltk.tokenize.toktok import ToktokTokenizer\n",
        "import random\n",
        "import re\n",
        "\n",
        "from sklearn.feature_extraction.text import CountVectorizer\n",
        "from sklearn.preprocessing import LabelBinarizer\n",
        "from sklearn.linear_model import LogisticRegression\n",
        "from sklearn.metrics import accuracy_score,confusion_matrix,classification_report,f1_score\n",
        "from sklearn.naive_bayes import MultinomialNB"
      ]
    },
    {
      "cell_type": "code",
      "execution_count": null,
      "metadata": {
        "id": "LKZMgIKSnshV"
      },
      "outputs": [],
      "source": [
        "df=pd.read_csv(\"/content/IMDB Dataset.csv\")"
      ]
    },
    {
      "cell_type": "code",
      "execution_count": null,
      "metadata": {
        "colab": {
          "base_uri": "https://localhost:8080/",
          "height": 206
        },
        "id": "eIdOmqf1pV2z",
        "outputId": "46fba91b-57dc-41f0-95ae-2bcfa4637ebb"
      },
      "outputs": [],
      "source": [
        "df.head()"
      ]
    },
    {
      "cell_type": "code",
      "execution_count": null,
      "metadata": {
        "colab": {
          "base_uri": "https://localhost:8080/",
          "height": 147
        },
        "id": "fkCmoLMdpXHu",
        "outputId": "f7609611-9823-4e52-e3d8-98adab0a0fcf"
      },
      "outputs": [],
      "source": [
        "df.isnull().sum()"
      ]
    },
    {
      "cell_type": "code",
      "execution_count": null,
      "metadata": {
        "colab": {
          "base_uri": "https://localhost:8080/"
        },
        "id": "QyFvcaEXpa13",
        "outputId": "3b548896-95ea-40c6-cdb7-7bc4032a3e2f"
      },
      "outputs": [],
      "source": [
        "df.info()"
      ]
    },
    {
      "cell_type": "code",
      "execution_count": null,
      "metadata": {
        "colab": {
          "base_uri": "https://localhost:8080/"
        },
        "id": "KxPdNmHApoRN",
        "outputId": "1409a8a9-0dd8-42c9-b492-a37abab3392a"
      },
      "outputs": [],
      "source": [
        "df.shape"
      ]
    },
    {
      "cell_type": "code",
      "execution_count": null,
      "metadata": {
        "colab": {
          "base_uri": "https://localhost:8080/",
          "height": 175
        },
        "id": "hyZ2cttSppMh",
        "outputId": "1bcdda97-a34b-4657-f1dd-e402c7b5c45f"
      },
      "outputs": [],
      "source": [
        "df.describe()"
      ]
    },
    {
      "cell_type": "code",
      "execution_count": null,
      "metadata": {
        "colab": {
          "base_uri": "https://localhost:8080/"
        },
        "id": "j9Id8JPgSo4a",
        "outputId": "9ce4120f-097f-4af9-bd9d-3cf98ff9b6f4"
      },
      "outputs": [],
      "source": [
        "df.duplicated().sum()"
      ]
    },
    {
      "cell_type": "code",
      "execution_count": null,
      "metadata": {
        "colab": {
          "base_uri": "https://localhost:8080/",
          "height": 594
        },
        "id": "oTRV9K85Tege",
        "outputId": "eaf7c70f-ec28-4b89-aef9-ce1f9a6b5332"
      },
      "outputs": [],
      "source": [
        "import matplotlib.pyplot as plt\n",
        "import seaborn as sns\n",
        "plt.figure(figsize=(8, 5))\n",
        "sns.countplot(x='sentiment', data=df, palette='viridis')\n",
        "plt.title('Sentiment Distribution')\n",
        "plt.xlabel('Sentiment')\n",
        "plt.ylabel('Count')\n",
        "plt.show()"
      ]
    },
    {
      "cell_type": "code",
      "execution_count": null,
      "metadata": {
        "id": "3dTra1CfTfkP"
      },
      "outputs": [],
      "source": [
        "# Generate the word clouds for positive and negative reviews\n",
        "\n",
        "positive_reviews = \" \".join(df[df['sentiment'] == 'positive']['review'])\n",
        "negative_reviews = \" \".join(df[df['sentiment'] == 'negative']['review'])"
      ]
    },
    {
      "cell_type": "code",
      "execution_count": null,
      "metadata": {
        "colab": {
          "base_uri": "https://localhost:8080/",
          "height": 444
        },
        "id": "O-AWCb0xUPjQ",
        "outputId": "3f5316ec-aaab-47b8-8ff0-32f359c8a494"
      },
      "outputs": [],
      "source": [
        "# Positive Reviews by using Wordcloud\n",
        "\n",
        "positive_wc = WordCloud(width=800, height=400, background_color='white').generate(positive_reviews)\n",
        "plt.figure(figsize=(10, 5))\n",
        "plt.imshow(positive_wc, interpolation='bilinear')\n",
        "plt.title('Word Cloud for Positive Reviews')\n",
        "plt.axis('off')\n",
        "plt.show()"
      ]
    },
    {
      "cell_type": "code",
      "execution_count": null,
      "metadata": {
        "colab": {
          "base_uri": "https://localhost:8080/",
          "height": 444
        },
        "id": "q1WS4p_TUVw0",
        "outputId": "b121ca7f-2219-4367-ceec-d5a263599619"
      },
      "outputs": [],
      "source": [
        "# Negative Reviews by using Wordcloud\n",
        "\n",
        "negative_wc = WordCloud(width=800, height=400, background_color='black').generate(negative_reviews)\n",
        "plt.figure(figsize=(10, 5))\n",
        "plt.imshow(negative_wc, interpolation='bilinear')\n",
        "plt.title('Word Cloud for Negative Reviews')\n",
        "plt.axis('off')\n",
        "plt.show()"
      ]
    },
    {
      "cell_type": "code",
      "execution_count": null,
      "metadata": {
        "colab": {
          "base_uri": "https://localhost:8080/",
          "height": 424
        },
        "id": "nLMwxj57Ujq1",
        "outputId": "b37e3a4e-9eb5-491d-9803-abbe5106577d"
      },
      "outputs": [],
      "source": [
        "# Convert a dataset Positive and negative into 1 and 0 integer form\n",
        "\n",
        "df.sentiment = [1 if s == 'positive' else 0 for s in df.sentiment]\n",
        "df"
      ]
    },
    {
      "cell_type": "markdown",
      "metadata": {
        "id": "6pGkEsfLhn5j"
      },
      "source": [
        "# **Text Preprocessing**"
      ]
    },
    {
      "cell_type": "code",
      "execution_count": null,
      "metadata": {
        "colab": {
          "base_uri": "https://localhost:8080/"
        },
        "id": "zYw2d6ptBIym",
        "outputId": "a2306052-e1e7-464b-8648-d7df05e98f80"
      },
      "outputs": [],
      "source": [
        "# using stopwords from nltk\n",
        "nltk.download('stopwords')\n",
        "stop_words = set(stopwords.words('english'))"
      ]
    },
    {
      "cell_type": "code",
      "execution_count": null,
      "metadata": {
        "colab": {
          "base_uri": "https://localhost:8080/"
        },
        "id": "SlTfIx-YDEUU",
        "outputId": "55f5a50a-ce7a-46b6-dfe9-8d7ada7ab40b"
      },
      "outputs": [],
      "source": [
        "# Remove HTML Strip and Special Characters\n",
        "tag = random.randint(0, len(df)-1)\n",
        "before_process = df.iloc[tag][0]\n",
        "\n",
        "def process(a):\n",
        "    a = re.sub('[,\\.!?:()\"]', '', a)\n",
        "    a = re.sub('<.*?>', ' ', a)\n",
        "    a = re.sub('http\\S+', ' ', a)\n",
        "    a = re.sub('[^a-zA-Z0-9]', ' ', a)\n",
        "    a = re.sub('\\s+', ' ', a)\n",
        "    return a.lower().strip()\n",
        "\n",
        "df['review'] = df['review'].apply(lambda a: process(a))\n",
        "after_process = df.iloc[tag][0]"
      ]
    },
    {
      "cell_type": "code",
      "execution_count": null,
      "metadata": {
        "colab": {
          "base_uri": "https://localhost:8080/"
        },
        "id": "1xouJ5OJFDt_",
        "outputId": "b07e0995-2d83-44a4-d576-3708b5372187"
      },
      "outputs": [],
      "source": [
        "nltk.download('punkt_tab')\n",
        "def sw_remove(a):\n",
        "    words = nltk.tokenize.word_tokenize(a)\n",
        "    filtered_list = [word for word in words if word not in stop_words]\n",
        "    return ' '.join(filtered_list)\n",
        "\n",
        "df['review'] = df['review'].apply(lambda a: sw_remove(a))\n",
        "after_removal = sw_remove(after_process)"
      ]
    },
    {
      "cell_type": "code",
      "execution_count": null,
      "metadata": {
        "id": "N3_PY7SsI--B"
      },
      "outputs": [],
      "source": [
        "def stemmer(a):\n",
        "  ps=nltk.porter.PorterStemmer()\n",
        "  text= ' '.join([ps.stem(word) for word in a.split()])\n",
        "  return text\n",
        "df['review']=df['review'].apply(stemmer)"
      ]
    },
    {
      "cell_type": "code",
      "execution_count": null,
      "metadata": {
        "colab": {
          "base_uri": "https://localhost:8080/",
          "height": 206
        },
        "id": "t8xK0PXDK34L",
        "outputId": "528a170f-c1b4-4f73-c9ee-a65490a2aefa"
      },
      "outputs": [],
      "source": [
        "df.head(5)"
      ]
    },
    {
      "cell_type": "code",
      "execution_count": null,
      "metadata": {
        "colab": {
          "base_uri": "https://localhost:8080/",
          "height": 458
        },
        "id": "kqvqWobjJPTO",
        "outputId": "b6d52ad2-b954-4288-8aca-98ee1eeb7d3e"
      },
      "outputs": [],
      "source": [
        "Y_train=df['sentiment']\n",
        "Y_test=df['sentiment']\n",
        "Y_test"
      ]
    },
    {
      "cell_type": "code",
      "execution_count": null,
      "metadata": {
        "colab": {
          "base_uri": "https://localhost:8080/",
          "height": 140
        },
        "id": "E7bvzV0GLOC6",
        "outputId": "2c73164f-eb11-4aa0-990d-e786796f5651"
      },
      "outputs": [],
      "source": [
        "norm_train_reviews=df.review[:40000]\n",
        "norm_train_reviews[0]\n",
        "norm_test_reviews=df.review[40000:]\n",
        "norm_test_reviews[45005]"
      ]
    },
    {
      "cell_type": "code",
      "execution_count": null,
      "metadata": {
        "colab": {
          "base_uri": "https://localhost:8080/",
          "height": 211
        },
        "id": "IEOCX4LeLUCD",
        "outputId": "e6a4ace4-f1ec-4fb0-8f24-0d26fc9c3827"
      },
      "outputs": [],
      "source": [
        "cv=CountVectorizer(min_df=0.0,max_df=1.0,binary=False,ngram_range=(1,3))\n",
        "#transformed train reviews\n",
        "cv_train_reviews = cv.fit_transform(norm_train_reviews[:40000])  # Process only 40000 reviews\n",
        "#transformed test reviews\n",
        "cv_test_reviews=cv.transform(norm_test_reviews)\n",
        "\n",
        "print('BOW_cv_train:',cv_train_reviews.shape)\n",
        "print('BOW_cv_test:',cv_test_reviews.shape)"
      ]
    },
    {
      "cell_type": "code",
      "execution_count": null,
      "metadata": {
        "colab": {
          "base_uri": "https://localhost:8080/"
        },
        "id": "5Yl-4H3qN-Jj",
        "outputId": "7637920f-528f-4bbc-f130-9405d68bc815"
      },
      "outputs": [],
      "source": [
        "from sklearn.feature_extraction.text import TfidfVectorizer\n",
        "tv=TfidfVectorizer(min_df=0.0,max_df=1.0,binary=False,ngram_range=(1,3))\n",
        "#transformed train reviews\n",
        "tv_train_reviews = tv.fit_transform(norm_train_reviews[:40000])  # Process only 40000 reviews\n",
        "#transformed test reviews\n",
        "tv_test_reviews=tv.transform(norm_test_reviews)\n",
        "\n",
        "print('Tfidf_train:',tv_train_reviews.shape)\n",
        "print('Tfidf_test:',tv_test_reviews.shape)"
      ]
    },
    {
      "cell_type": "code",
      "execution_count": null,
      "metadata": {
        "id": "-X9HQtsKCUX9"
      },
      "outputs": [],
      "source": [
        "from sklearn.discriminant_analysis import LinearDiscriminantAnalysis as LDA\n",
        "num_components = 800\n",
        "lda = LDA(n_components=num_components)\n",
        "# Apply LDA to training data\n",
        "lda_train_features = lda.fit_transform(tv_train_reviews.toarray(), train_sentiment)\n",
        "# Apply LDA to testing data\n",
        "lda_test_features = lda.transform(tv_test_reviews.toarray())"
      ]
    },
    {
      "cell_type": "code",
      "execution_count": null,
      "metadata": {
        "id": "LmY5e9xsLacE"
      },
      "outputs": [],
      "source": [
        "lb=LabelBinarizer()\n",
        "sentimentdata=lb.fit_transform(df['sentiment'])\n",
        "print(sentimentdata.shape)"
      ]
    },
    {
      "cell_type": "code",
      "execution_count": null,
      "metadata": {
        "id": "dmd4cVolLwtS"
      },
      "outputs": [],
      "source": [
        "train_sentiment=sentimentdata[:40000]\n",
        "test_sentiment=sentimentdata[40000:]\n",
        "print(train_sentiment)\n",
        "print(test_sentiment)"
      ]
    },
    {
      "cell_type": "markdown",
      "metadata": {
        "id": "bI1D-z2ph-QO"
      },
      "source": [
        "# **Using ML Algorithm (Logistic Regression and Naive Bayes Algorithm)**"
      ]
    },
    {
      "cell_type": "code",
      "execution_count": null,
      "metadata": {
        "id": "g4D6iYT3L0kl"
      },
      "outputs": [],
      "source": [
        "lr = LogisticRegression(penalty='l2', max_iter=1000, C=1, random_state=42)  # Increased max_iter\n",
        "lr_bow = lr.fit(cv_train_reviews, train_sentiment)\n",
        "lr_tfidf=lr.fit(tv_train_reviews,train_sentiment)"
      ]
    },
    {
      "cell_type": "code",
      "execution_count": null,
      "metadata": {
        "id": "PAiWwBRCL4-x"
      },
      "outputs": [],
      "source": [
        "print(\"Bag of Words :\",lr_bow)\n",
        "print(\"Tfidf :\",lr_tfidf)"
      ]
    },
    {
      "cell_type": "code",
      "execution_count": null,
      "metadata": {
        "id": "XNYkWLOeQXCz"
      },
      "outputs": [],
      "source": [
        "# Bag of words Prediction\n",
        "lr_bow_predict=lr.predict(cv_test_reviews)\n",
        "print(lr_bow_predict)\n",
        "# Tfidf Prediction\n",
        "lr_tfidf_predict=lr.predict(cv_test_reviews)\n",
        "print(lr_tfidf_predict)"
      ]
    },
    {
      "cell_type": "code",
      "execution_count": null,
      "metadata": {
        "id": "b8CBjR2jQ57d"
      },
      "outputs": [],
      "source": [
        "# Bag of Words Accuracy\n",
        "lr_bow_accuracy=accuracy_score(test_sentiment,lr_bow_predict)\n",
        "print(\"Accuracy of BOW: \",lr_bow_accuracy)\n",
        "# Tfidf Accuracy\n",
        "lr_tfidf_accuracy=accuracy_score(test_sentiment,lr_tfidf_predict)\n",
        "print(\"Accuracy of Tfidf: \",lr_tfidf_accuracy)"
      ]
    },
    {
      "cell_type": "code",
      "execution_count": null,
      "metadata": {
        "id": "56ipZmgARjrr"
      },
      "outputs": [],
      "source": [
        "# Classification Report of BOW\n",
        "lr_bow_report=classification_report(test_sentiment,lr_bow_predict,target_names=['Positive','Negative'])\n",
        "print(lr_bow_report)\n",
        "# Classification Report of Tfidf\n",
        "lr_tfidf_report=classification_report(test_sentiment,lr_tfidf_predict,target_names=['Positive','Negative'])\n",
        "print(lr_tfidf_report)"
      ]
    },
    {
      "cell_type": "code",
      "execution_count": null,
      "metadata": {
        "id": "PpYpI6LfSJRy"
      },
      "outputs": [],
      "source": [
        "# Confusion Matrix of BOW\n",
        "bow_conf=confusion_matrix(test_sentiment,lr_bow_predict)\n",
        "print(\"Confusion Matrix BOW: \",bow_conf)\n",
        "\n",
        "# Confusion Matrix of Tfidf\n",
        "tfidf_conf=confusion_matrix(test_sentiment,lr_tfidf_predict)\n",
        "print(\"Confusion Matrix Tfidf: \",tfidf_conf)"
      ]
    },
    {
      "cell_type": "code",
      "execution_count": null,
      "metadata": {
        "id": "sXer_OHdTGb-"
      },
      "outputs": [],
      "source": [
        "multinv=MultinomialNB()\n",
        "# For BOW\n",
        "multinv_bow=multinv.fit(cv_train_reviews,train_sentiment)\n",
        "print(multinv_bow)\n",
        "# For Tfidf\n",
        "multinv_tfidf=multinv.fit(tv_train_reviews,train_sentiment)\n",
        "print(multinv_tfidf)"
      ]
    },
    {
      "cell_type": "code",
      "execution_count": null,
      "metadata": {
        "id": "yR-u_NqbT-E4"
      },
      "outputs": [],
      "source": [
        "# Bag of words Prediction\n",
        "multinv_bow_predict=multinv.predict(cv_test_reviews)\n",
        "print(multinv_bow_predict)\n",
        "# Tfidf Prediction\n",
        "multinv_tfidf_predict=multinv.predict(cv_test_reviews)\n",
        "print(multinv_tfidf_predict)"
      ]
    },
    {
      "cell_type": "code",
      "execution_count": null,
      "metadata": {
        "id": "02K8atR-UTPA"
      },
      "outputs": [],
      "source": [
        "# Bag of Words Accuracy\n",
        "multinv_bow_accuracy=accuracy_score(test_sentiment,multinv_bow_predict)\n",
        "print(\"Accuracy of BOW: \",multinv_bow_accuracy)\n",
        "# Tfidf Accuracy\n",
        "multinv_tfidf_accuracy=accuracy_score(test_sentiment,multinv_tfidf_predict)\n",
        "print(\"Accuracy of Tfidf: \",multinv_tfidf_accuracy)"
      ]
    },
    {
      "cell_type": "code",
      "execution_count": null,
      "metadata": {
        "id": "SGTj4Hw_U1cf"
      },
      "outputs": [],
      "source": [
        "# Classification Report of BOW\n",
        "multinv_bow_report=classification_report(test_sentiment,multinv_bow_predict,target_names=['Positive','Negative'])\n",
        "print(multinv_bow_report)\n",
        "# Classification Report of Tfidf\n",
        "multinv_tfidf_report=classification_report(test_sentiment,multinv_tfidf_predict,target_names=['Positive','Negative'])\n",
        "print(multinv_tfidf_report)"
      ]
    },
    {
      "cell_type": "code",
      "execution_count": null,
      "metadata": {
        "id": "3z28OUcyVEk-"
      },
      "outputs": [],
      "source": [
        "# Confusion Matrix of BOW\n",
        "bow_conf=confusion_matrix(test_sentiment,multinv_bow_predict)\n",
        "print(\"Confusion Matrix BOW: \",bow_conf)\n",
        "\n",
        "# Confusion Matrix of Tfidf\n",
        "tfidf_conf=confusion_matrix(test_sentiment,multinv_tfidf_predict)\n",
        "print(\"Confusion Matrix Tfidf: \",tfidf_conf)"
      ]
    },
    {
      "cell_type": "markdown",
      "metadata": {
        "id": "bhl2XRwdgzAC"
      },
      "source": [
        "# **Using Deep Learning LSTM Model**"
      ]
    },
    {
      "cell_type": "code",
      "execution_count": null,
      "metadata": {
        "id": "Ds7OsnpuVQi0"
      },
      "outputs": [],
      "source": [
        "import tensorflow as tf\n",
        "from tensorflow.keras.preprocessing.text import Tokenizer\n",
        "from tensorflow.keras.preprocessing.sequence import pad_sequences\n",
        "from tensorflow.keras.models import Sequential\n",
        "from tensorflow.keras.layers import Embedding, LSTM, Dense, Dropout"
      ]
    },
    {
      "cell_type": "code",
      "execution_count": null,
      "metadata": {
        "id": "ookctk1aY0fZ"
      },
      "outputs": [],
      "source": [
        "# Split the dataset into training and testing sets\n",
        "X_train, X_test, y_train, y_test = train_test_split(df[\"review\"], df['sentiment'], test_size=0.2, random_state=42)"
      ]
    },
    {
      "cell_type": "code",
      "execution_count": null,
      "metadata": {
        "id": "AyBEMRlkXzRz"
      },
      "outputs": [],
      "source": [
        "# Text Vectorizer\n",
        "max_words=10000\n",
        "max_len=150"
      ]
    },
    {
      "cell_type": "code",
      "execution_count": null,
      "metadata": {
        "id": "WCZFq978YhYh"
      },
      "outputs": [],
      "source": [
        "tokenizer = Tokenizer(num_words=max_words)\n",
        "tokenizer.fit_on_texts(X_train)"
      ]
    },
    {
      "cell_type": "code",
      "execution_count": null,
      "metadata": {
        "id": "SBPH-MjQYtjV"
      },
      "outputs": [],
      "source": [
        "X_train_seq = tokenizer.texts_to_sequences(X_train)\n",
        "X_test_seq = tokenizer.texts_to_sequences(X_test)"
      ]
    },
    {
      "cell_type": "code",
      "execution_count": null,
      "metadata": {
        "id": "Ut__CW_bZEty"
      },
      "outputs": [],
      "source": [
        "X_train_pad = pad_sequences(X_train_seq, maxlen=max_len)\n",
        "X_test_pad = pad_sequences(X_test_seq, maxlen=max_len)"
      ]
    },
    {
      "cell_type": "code",
      "execution_count": null,
      "metadata": {
        "id": "QlXE3qL9ZLmU"
      },
      "outputs": [],
      "source": [
        "# Build the LSTM Model\n",
        "model = Sequential()\n",
        "model.add(Embedding(input_dim=max_words, output_dim=128, input_length=max_len))\n",
        "model.add(LSTM(128, return_sequences=True))\n",
        "model.add(Dropout(0.2))\n",
        "model.add(LSTM(64))\n",
        "model.add(Dropout(0.2))\n",
        "model.add(Dense(1, activation='sigmoid'))\n",
        "model.compile(optimizer='adam', loss='binary_crossentropy', metrics=['accuracy'])"
      ]
    },
    {
      "cell_type": "code",
      "execution_count": null,
      "metadata": {
        "id": "Ms7tWeLeZtMO"
      },
      "outputs": [],
      "source": [
        "model.summary()"
      ]
    },
    {
      "cell_type": "code",
      "execution_count": null,
      "metadata": {
        "id": "KUoajO5wZcZs"
      },
      "outputs": [],
      "source": [
        "# Train the model\n",
        "model.fit(X_train_pad, y_train, epochs=10, batch_size=64, validation_split=0.2)"
      ]
    },
    {
      "cell_type": "code",
      "execution_count": null,
      "metadata": {
        "id": "IFEqD4l-ZmBq"
      },
      "outputs": [],
      "source": [
        "# Evaluate the model\n",
        "y_pred_prob = model.predict(X_test_pad)\n",
        "y_pred = (y_pred_prob > 0.5).astype(int)"
      ]
    },
    {
      "cell_type": "code",
      "execution_count": null,
      "metadata": {
        "id": "QgBHyA--aqsU"
      },
      "outputs": [],
      "source": [
        "# Classification report\n",
        "print(\"LSTM Classifier Results:\")\n",
        "print(classification_report(y_test, y_pred))"
      ]
    },
    {
      "cell_type": "code",
      "execution_count": null,
      "metadata": {
        "id": "RmSYb1sLa00O"
      },
      "outputs": [],
      "source": [
        "# Calculate F1 Score and Accuracy\n",
        "f1_lstm = f1_score(y_test, y_pred)\n",
        "accuracy_lstm = accuracy_score(y_test, y_pred)\n",
        "print(f\"LSTM F1 Score: {f1_lstm}\")\n",
        "print(f\"LSTM Accuracy: {accuracy_lstm}\")"
      ]
    }
  ],
  "metadata": {
    "colab": {
      "provenance": []
    },
    "kernelspec": {
      "display_name": "Python 3",
      "name": "python3"
    },
    "language_info": {
      "name": "python"
    }
  },
  "nbformat": 4,
  "nbformat_minor": 0
}
